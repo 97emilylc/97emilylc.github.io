{
 "cells": [
  {
   "cell_type": "code",
   "execution_count": 1,
   "metadata": {
    "scrolled": true
   },
   "outputs": [],
   "source": [
    "import pandas as pd\n",
    "import seaborn as sns\n",
    "import imdb"
   ]
  },
  {
   "cell_type": "code",
   "execution_count": 2,
   "metadata": {},
   "outputs": [],
   "source": [
    "fetcher = imdb.IMDb()"
   ]
  },
  {
   "cell_type": "code",
   "execution_count": 3,
   "metadata": {},
   "outputs": [],
   "source": [
    "top250 = pd.read_csv(\"./custom_csv_files/top250.csv\")"
   ]
  },
  {
   "cell_type": "code",
   "execution_count": 4,
   "metadata": {},
   "outputs": [],
   "source": [
    "top250 = top250.drop(['Unnamed: 0'], axis = 1)"
   ]
  },
  {
   "cell_type": "code",
   "execution_count": 5,
   "metadata": {},
   "outputs": [],
   "source": [
    "num_per_year = top250.groupby(['Year']).count()['ID']"
   ]
  },
  {
   "cell_type": "code",
   "execution_count": 6,
   "metadata": {},
   "outputs": [
    {
     "data": {
      "image/png": "[encoded data removed]",
      "text/plain": [
       "<Figure size 432x288 with 1 Axes>"
      ]
     },
     "metadata": {
      "needs_background": "light"
     },
     "output_type": "display_data"
    }
   ],
   "source": [
    "plot = sns.distplot(top250['Year'], bins = 100)"
   ]
  },
  {
   "cell_type": "code",
   "execution_count": 7,
   "metadata": {},
   "outputs": [
    {
     "data": {
      "text/html": [
       "<div>\n",
       "<style scoped>\n",
       "    .dataframe tbody tr th:only-of-type {\n",
       "        vertical-align: middle;\n",
       "    }\n",
       "\n",
       "    .dataframe tbody tr th {\n",
       "        vertical-align: top;\n",
       "    }\n",
       "\n",
       "    .dataframe thead th {\n",
       "        text-align: right;\n",
       "    }\n",
       "</style>\n",
       "<table border=\"1\" class=\"dataframe\">\n",
       "  <thead>\n",
       "    <tr style=\"text-align: right;\">\n",
       "      <th></th>\n",
       "      <th>ID</th>\n",
       "      <th>Title</th>\n",
       "      <th>Year</th>\n",
       "      <th>Star1</th>\n",
       "      <th>Star2</th>\n",
       "      <th>Star3</th>\n",
       "      <th>Star4</th>\n",
       "      <th>Star5</th>\n",
       "    </tr>\n",
       "  </thead>\n",
       "  <tbody>\n",
       "    <tr>\n",
       "      <th>0</th>\n",
       "      <td>111161</td>\n",
       "      <td>The Shawshank Redemption</td>\n",
       "      <td>1994</td>\n",
       "      <td>Tim Robbins</td>\n",
       "      <td>Morgan Freeman</td>\n",
       "      <td>Bob Gunton</td>\n",
       "      <td>William Sadler</td>\n",
       "      <td>Clancy Brown</td>\n",
       "    </tr>\n",
       "    <tr>\n",
       "      <th>1</th>\n",
       "      <td>68646</td>\n",
       "      <td>The Godfather</td>\n",
       "      <td>1972</td>\n",
       "      <td>Marlon Brando</td>\n",
       "      <td>Al Pacino</td>\n",
       "      <td>James Caan</td>\n",
       "      <td>Richard S. Castellano</td>\n",
       "      <td>Robert Duvall</td>\n",
       "    </tr>\n",
       "    <tr>\n",
       "      <th>2</th>\n",
       "      <td>71562</td>\n",
       "      <td>The Godfather: Part II</td>\n",
       "      <td>1974</td>\n",
       "      <td>Al Pacino</td>\n",
       "      <td>Robert Duvall</td>\n",
       "      <td>Diane Keaton</td>\n",
       "      <td>Robert De Niro</td>\n",
       "      <td>John Cazale</td>\n",
       "    </tr>\n",
       "    <tr>\n",
       "      <th>3</th>\n",
       "      <td>468569</td>\n",
       "      <td>The Dark Knight</td>\n",
       "      <td>2008</td>\n",
       "      <td>Christian Bale</td>\n",
       "      <td>Heath Ledger</td>\n",
       "      <td>Aaron Eckhart</td>\n",
       "      <td>Michael Caine</td>\n",
       "      <td>Maggie Gyllenhaal</td>\n",
       "    </tr>\n",
       "    <tr>\n",
       "      <th>4</th>\n",
       "      <td>50083</td>\n",
       "      <td>12 Angry Men</td>\n",
       "      <td>1957</td>\n",
       "      <td>Martin Balsam</td>\n",
       "      <td>John Fiedler</td>\n",
       "      <td>Lee J. Cobb</td>\n",
       "      <td>E.G. Marshall</td>\n",
       "      <td>Jack Klugman</td>\n",
       "    </tr>\n",
       "  </tbody>\n",
       "</table>\n",
       "</div>"
      ],
      "text/plain": [
       "       ID                     Title  Year           Star1           Star2  \\\n",
       "0  111161  The Shawshank Redemption  1994     Tim Robbins  Morgan Freeman   \n",
       "1   68646             The Godfather  1972   Marlon Brando       Al Pacino   \n",
       "2   71562    The Godfather: Part II  1974       Al Pacino   Robert Duvall   \n",
       "3  468569           The Dark Knight  2008  Christian Bale    Heath Ledger   \n",
       "4   50083              12 Angry Men  1957   Martin Balsam    John Fiedler   \n",
       "\n",
       "           Star3                  Star4              Star5  \n",
       "0     Bob Gunton         William Sadler       Clancy Brown  \n",
       "1     James Caan  Richard S. Castellano      Robert Duvall  \n",
       "2   Diane Keaton         Robert De Niro        John Cazale  \n",
       "3  Aaron Eckhart          Michael Caine  Maggie Gyllenhaal  \n",
       "4    Lee J. Cobb          E.G. Marshall       Jack Klugman  "
      ]
     },
     "execution_count": 7,
     "metadata": {},
     "output_type": "execute_result"
    }
   ],
   "source": [
    "top250.head()"
   ]
  },
  {
   "cell_type": "code",
   "execution_count": 8,
   "metadata": {},
   "outputs": [],
   "source": [
    "best_actors = top250['Star2'].append(top250['Star1'], ignore_index = True).append(top250['Star3'], ignore_index = True).append(top250['Star4'], ignore_index = True).value_counts()"
   ]
  },
  {
   "cell_type": "code",
   "execution_count": 18,
   "metadata": {},
   "outputs": [
    {
     "data": {
      "text/plain": [
       "Robert De Niro        7\n",
       "Tom Hanks             7\n",
       "Aamir Khan            6\n",
       "Leonardo DiCaprio     6\n",
       "Harrison Ford         6\n",
       "Clint Eastwood        5\n",
       "Charles Chaplin       4\n",
       "Morgan Freeman        4\n",
       "Brad Pitt             4\n",
       "Christian Bale        4\n",
       "Mark Ruffalo          4\n",
       "James Stewart         4\n",
       "Jack Nicholson        4\n",
       "Tom Hardy             4\n",
       "Al Pacino             4\n",
       "Gunnar Björnstrand    3\n",
       "Tim Roth              3\n",
       "Tim Allen             3\n",
       "William Holden        3\n",
       "Paul Newman           3\n",
       "Ralph Fiennes         3\n",
       "Ethan Hawke           3\n",
       "Michael Caine         3\n",
       "Robert Duvall         3\n",
       "Mark Hamill           3\n",
       "Toshirô Mifune        3\n",
       "Russell Crowe         3\n",
       "Tatsuya Nakadai       3\n",
       "Marlon Brando         3\n",
       "Jack Hawkins          3\n",
       "                     ..\n",
       "Çetin Tekindor        1\n",
       "Machiko Kyô           1\n",
       "Linda Cardellini      1\n",
       "Diahnne Abbott        1\n",
       "Leo Gullotta          1\n",
       "Enzo Cannavale        1\n",
       "Rosamund Pike         1\n",
       "Nils Poppe            1\n",
       "Alida Valli           1\n",
       "Jared Leto            1\n",
       "Mitsuo Iwata          1\n",
       "Herbert Grönemeyer    1\n",
       "Carl Miller           1\n",
       "Mathieu Amalric       1\n",
       "Tom Hulce             1\n",
       "Uma Thurman           1\n",
       "Mahito Tsujimura      1\n",
       "Sylvester Stallone    1\n",
       "Chris Pratt           1\n",
       "Jeff Bridges          1\n",
       "Rémy Girard           1\n",
       "Elissa Knight         1\n",
       "Tsutomu Tatsumi       1\n",
       "Vinnie Jones          1\n",
       "Miles Teller          1\n",
       "Sam Rockwell          1\n",
       "John Hurt             1\n",
       "Daryl Hannah          1\n",
       "Kawsar Al Haddad      1\n",
       "Vipin Sharma          1\n",
       "Length: 819, dtype: int64"
      ]
     },
     "execution_count": 18,
     "metadata": {},
     "output_type": "execute_result"
    }
   ],
   "source": [
    "best_actors"
   ]
  },
  {
   "cell_type": "code",
   "execution_count": 11,
   "metadata": {},
   "outputs": [],
   "source": [
    "best_actors_df = pd.DataFrame(best_actors[best_actors > 1])\n"
   ]
  },
  {
   "cell_type": "code",
   "execution_count": 14,
   "metadata": {},
   "outputs": [],
   "source": [
    "best_actors_df = best_actors_df.reset_index()\n"
   ]
  },
  {
   "cell_type": "code",
   "execution_count": 19,
   "metadata": {},
   "outputs": [],
   "source": [
    "first_names = best_actors_df[\"index\"].str.extract(r\"([^\\s]+)\")"
   ]
  },
  {
   "cell_type": "code",
   "execution_count": 27,
   "metadata": {},
   "outputs": [],
   "source": [
    "first_names.columns = [\"Name\"]\n",
    "best_actors_df.columns = [\"Names\",\"Titles\"]"
   ]
  },
  {
   "cell_type": "code",
   "execution_count": 31,
   "metadata": {},
   "outputs": [],
   "source": [
    "first_names[\"Titles\"] = best_actors_df[\"Titles\"]"
   ]
  },
  {
   "cell_type": "code",
   "execution_count": 46,
   "metadata": {},
   "outputs": [],
   "source": [
    "most_sucessful_names = first_names.groupby([\"Name\"]).sum().reset_index().sort_values(by = [\"Titles\"], ascending = False)"
   ]
  },
  {
   "cell_type": "code",
   "execution_count": 54,
   "metadata": {},
   "outputs": [
    {
     "data": {
      "text/plain": [
       "<matplotlib.axes._subplots.AxesSubplot at 0x1a21fbb0f0>"
      ]
     },
     "execution_count": 54,
     "metadata": {},
     "output_type": "execute_result"
    },
    {
     "data": {
      "image/png": "[encoded data removed]",
      "text/plain": [
       "<Figure size 432x288 with 1 Axes>"
      ]
     },
     "metadata": {
      "needs_background": "light"
     },
     "output_type": "display_data"
    }
   ],
   "source": [
    "sns.barplot(y=most_sucessful_names[\"Name\"][0:10], x=most_sucessful_names[\"Titles\"][0:10])"
   ]
  },
  {
   "cell_type": "code",
   "execution_count": null,
   "metadata": {},
   "outputs": [],
   "source": []
  },
  {
   "cell_type": "code",
   "execution_count": null,
   "metadata": {},
   "outputs": [],
   "source": []
  },
  {
   "cell_type": "code",
   "execution_count": null,
   "metadata": {},
   "outputs": [],
   "source": []
  },
  {
   "cell_type": "code",
   "execution_count": null,
   "metadata": {},
   "outputs": [],
   "source": []
  }
 ],
 "metadata": {
  "kernelspec": {
   "display_name": "Python 3",
   "language": "python",
   "name": "python3"
  },
  "language_info": {
   "codemirror_mode": {
    "name": "ipython",
    "version": 3
   },
   "file_extension": ".py",
   "mimetype": "text/x-python",
   "name": "python",
   "nbconvert_exporter": "python",
   "pygments_lexer": "ipython3",
   "version": "3.7.0"
  }
 },
 "nbformat": 4,
 "nbformat_minor": 2
}
