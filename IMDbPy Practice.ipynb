{
 "cells": [
  {
   "cell_type": "code",
   "execution_count": 1,
   "metadata": {},
   "outputs": [],
   "source": [
    "import imdb\n",
    "import pandas as pd\n",
    "import csv"
   ]
  },
  {
   "cell_type": "code",
   "execution_count": 2,
   "metadata": {},
   "outputs": [],
   "source": [
    "data = imdb.IMDb() # How we fetch the data"
   ]
  },
  {
   "cell_type": "code",
   "execution_count": 3,
   "metadata": {},
   "outputs": [],
   "source": [
    "top = data.get_top250_movies() # Getting the 250 movie objects that are the highest ranked on the website"
   ]
  },
  {
   "cell_type": "code",
   "execution_count": 26,
   "metadata": {},
   "outputs": [],
   "source": [
    "\n",
    "top_IDs = list()\n",
    "for i in range(len(top)):\n",
    "    top_IDs.append(top[i].getID())\n",
    "    \n",
    "top_titles = list()\n",
    "for i in range(len(top)):\n",
    "    top_titles.append(top[i]['title'])\n"
   ]
  },
  {
   "cell_type": "markdown",
   "metadata": {},
   "source": [
    "### Why is this next chunk (defining get_top_billing) necessary?\n",
    "- The IMDb movie objects imported into the *top* variable are **not** the same as movie objects that are retrieved by calling the *get_movie()* function. The information in each movie object from the *get_top250_movies()* function is severly limited. \n",
    "- The way we access the information per each movie object is to use different keys, ie\n",
    "        movie_obj['cast']\n",
    "        \n",
    "  this should print out a large number of people objects, each containing the person's name and information\n",
    "- But the keys that are available to be used with the objects fetched by using the get_top250_movies() function are limited to the following:\n",
    "        ['rating',\n",
    "         'title',\n",
    "         'year',\n",
    "         'votes',\n",
    "         'top 250 rank',\n",
    "         'kind',\n",
    "         'canonical title',\n",
    "         'long imdb title',\n",
    "         'long imdb canonical title',\n",
    "         'smart canonical title',\n",
    "         'smart long imdb canonical title']\n",
    "         \n",
    "- While the keys that are available to movies fetched by the *get_movie()* function are much more extensive:\n",
    "        ['cast',\n",
    "         'genres',\n",
    "         'runtimes',\n",
    "         'countries',\n",
    "         'country codes',\n",
    "         'language codes',\n",
    "         'color info',\n",
    "         'aspect ratio',\n",
    "         'sound mix',\n",
    "         'box office',\n",
    "         'certificates',\n",
    "         'original air date',\n",
    "         'rating',\n",
    "         'votes',\n",
    "         'cover url',\n",
    "         'plot outline',\n",
    "         'languages',\n",
    "         'title',\n",
    "         'year',\n",
    "         'kind',\n",
    "         'directors',\n",
    "         'writers',\n",
    "         'producers',\n",
    "         'composers',\n",
    "         'cinematographers',\n",
    "         'editors',\n",
    "         'editorial department',\n",
    "         'casting directors',\n",
    "         'production designers',\n",
    "         'art directors',\n",
    "         'set decorators',\n",
    "         'costume designers',\n",
    "         'make up department',\n",
    "         'production managers',\n",
    "         'assistant directors',\n",
    "         'art department',\n",
    "         'sound department',\n",
    "         'special effects',\n",
    "         'visual effects',\n",
    "         'stunts',\n",
    "         'camera department',\n",
    "         'animation department',\n",
    "         'casting department',\n",
    "         'costume departmen',\n",
    "         'location management',\n",
    "         'music department',\n",
    "         'transportation department',\n",
    "         'miscellaneous',\n",
    "         'thanks',\n",
    "         'akas',\n",
    "         'writer',\n",
    "         'director',\n",
    "         'production companies',\n",
    "         'distributors',\n",
    "         'special effects companies',\n",
    "         'other companies',\n",
    "         'plot',\n",
    "         'synopsis',\n",
    "         'canonical title',\n",
    "         'long imdb title',\n",
    "         'long imdb canonical title',\n",
    "         'smart canonical title',\n",
    "         'smart long imdb canonical title',\n",
    "         'full-size cover url']"
   ]
  },
  {
   "cell_type": "markdown",
   "metadata": {},
   "source": [
    "There are very few items in this list that I desire to work with but things like director and cast are rather important to include. Instead of finding the top 250 films by hand and fetch them as Movie objects by hand, which would take a considerable amount of time, I am defining a function that will only pull the top 5 billed casts' names."
   ]
  },
  {
   "cell_type": "code",
   "execution_count": 33,
   "metadata": {},
   "outputs": [],
   "source": [
    "## Why is this necessary?\n",
    "\n",
    "def get_top_billing(self, size = 5):\n",
    "    \" Get the top 5 highest billed actors\"\n",
    "    \"must be passed a get_top250 movies object, not the original movie object\"\n",
    "    top_billed = []\n",
    "    if(type(self) == list):\n",
    "        for i in range(len(self)):\n",
    "            top_billed.append(data.get_movie(self[i].getID())['cast'][0:size])\n",
    "    else:\n",
    "        top_billed = data.get_movie(self.getID())['cast'][0:size]\n",
    "    return top_billed\n"
   ]
  },
  {
   "cell_type": "code",
   "execution_count": null,
   "metadata": {},
   "outputs": [],
   "source": [
    "## NOTE: This line of code takes a considerable amount of time to runt\n",
    "top_cast = get_top_billing(top) ## Already ran this line of code"
   ]
  },
  {
   "cell_type": "code",
   "execution_count": 11,
   "metadata": {},
   "outputs": [
    {
     "ename": "NameError",
     "evalue": "name 'top_cast' is not defined",
     "output_type": "error",
     "traceback": [
      "\u001b[0;31m---------------------------------------------------------------------------\u001b[0m",
      "\u001b[0;31mNameError\u001b[0m                                 Traceback (most recent call last)",
      "\u001b[0;32m<ipython-input-11-044d721a1848>\u001b[0m in \u001b[0;36m<module>\u001b[0;34m\u001b[0m\n\u001b[1;32m      1\u001b[0m \u001b[0;32mwith\u001b[0m \u001b[0mopen\u001b[0m\u001b[0;34m(\u001b[0m\u001b[0;34m\"top_IDs.csv\"\u001b[0m\u001b[0;34m,\u001b[0m \u001b[0;34m\"w\"\u001b[0m\u001b[0;34m,\u001b[0m \u001b[0mnewline\u001b[0m\u001b[0;34m=\u001b[0m\u001b[0;34m\"\"\u001b[0m\u001b[0;34m)\u001b[0m \u001b[0;32mas\u001b[0m \u001b[0mf\u001b[0m\u001b[0;34m:\u001b[0m\u001b[0;34m\u001b[0m\u001b[0;34m\u001b[0m\u001b[0m\n\u001b[1;32m      2\u001b[0m     \u001b[0mwriter\u001b[0m \u001b[0;34m=\u001b[0m \u001b[0mcsv\u001b[0m\u001b[0;34m.\u001b[0m\u001b[0mwriter\u001b[0m\u001b[0;34m(\u001b[0m\u001b[0mf\u001b[0m\u001b[0;34m)\u001b[0m\u001b[0;34m\u001b[0m\u001b[0;34m\u001b[0m\u001b[0m\n\u001b[0;32m----> 3\u001b[0;31m     \u001b[0mwriter\u001b[0m\u001b[0;34m.\u001b[0m\u001b[0mwriterows\u001b[0m\u001b[0;34m(\u001b[0m\u001b[0mtop_cast\u001b[0m\u001b[0;34m)\u001b[0m\u001b[0;34m\u001b[0m\u001b[0;34m\u001b[0m\u001b[0m\n\u001b[0m\u001b[1;32m      4\u001b[0m \u001b[0;34m\u001b[0m\u001b[0m\n",
      "\u001b[0;31mNameError\u001b[0m: name 'top_cast' is not defined"
     ]
    }
   ],
   "source": [
    "with open(\"top_IDs.csv\", \"w\", newline=\"\") as f:\n",
    "    writer = csv.writer(f)\n",
    "    writer.writerows(top_cast)\n",
    "    \n"
   ]
  },
  {
   "cell_type": "code",
   "execution_count": 21,
   "metadata": {},
   "outputs": [],
   "source": [
    "(pd.DataFrame(top_titles)).to_csv(r\"/Users/emilychristiansen/Documents/97emilylc.github.io/top_titles.csv\")\n",
    "((pd.DataFrame(top_IDs)).to_csv(r\"/Users/emilychristiansen/Documents/97emilylc.github.io/top_IDs.csv\"))"
   ]
  },
  {
   "cell_type": "code",
   "execution_count": 25,
   "metadata": {},
   "outputs": [
    {
     "data": {
      "text/plain": [
       "RangeIndex(start=0, stop=250, step=1)"
      ]
     },
     "execution_count": 25,
     "metadata": {},
     "output_type": "execute_result"
    }
   ],
   "source": [
    "pd.DataFrame(top_IDs).index"
   ]
  },
  {
   "cell_type": "code",
   "execution_count": 10,
   "metadata": {},
   "outputs": [],
   "source": [
    "with open(\"top_titles.csv\", \"w\", newline = \"\") as f:\n",
    "    writer = csv.writer(f)\n",
    "    writer.writerows(top_titles)\n",
    "    \n",
    "with open(\"top_IDs.csv\", \"w\", newline = \"\") as f:\n",
    "    writer = csv.writer(f)\n",
    "    writer.writerows(top_IDs)"
   ]
  },
  {
   "cell_type": "code",
   "execution_count": 187,
   "metadata": {},
   "outputs": [],
   "source": [
    "top = data.get_top250_movies()"
   ]
  },
  {
   "cell_type": "code",
   "execution_count": 334,
   "metadata": {},
   "outputs": [],
   "source": [
    "shawshankID = '0111161'\n",
    "ironmanID = '0371746'\n",
    "ironman = data.get_movie(ironmanID)\n",
    "shawshank = data.get_movie(shawshankID)\n",
    "top_titles = list()\n",
    "top_objects = list()\n",
    "top100 = top[0:100]"
   ]
  },
  {
   "cell_type": "code",
   "execution_count": 388,
   "metadata": {},
   "outputs": [],
   "source": [
    "\n",
    "    \n",
    "        "
   ]
  },
  {
   "cell_type": "code",
   "execution_count": 408,
   "metadata": {},
   "outputs": [
    {
     "ename": "SyntaxError",
     "evalue": "invalid syntax (<ipython-input-408-0ff9fbd57db5>, line 4)",
     "output_type": "error",
     "traceback": [
      "\u001b[0;36m  File \u001b[0;32m\"<ipython-input-408-0ff9fbd57db5>\"\u001b[0;36m, line \u001b[0;32m4\u001b[0m\n\u001b[0;31m    df['Year'] = top[i]['year'] for i in range(len(top))\u001b[0m\n\u001b[0m                                  ^\u001b[0m\n\u001b[0;31mSyntaxError\u001b[0m\u001b[0;31m:\u001b[0m invalid syntax\n"
     ]
    }
   ],
   "source": [
    "df = pd.DataFrame()\n",
    "df['id'] = top_IDs\n",
    "df['Title'] = top_titles\n",
    "df['Year'] = top[i]['year'] for i in range(len(top))\n"
   ]
  },
  {
   "cell_type": "code",
   "execution_count": 304,
   "metadata": {},
   "outputs": [],
   "source": [
    "\n",
    "    \n",
    "ironman_stars = get_top_billing(ironman)"
   ]
  },
  {
   "cell_type": "code",
   "execution_count": 319,
   "metadata": {},
   "outputs": [],
   "source": []
  },
  {
   "cell_type": "code",
   "execution_count": 252,
   "metadata": {},
   "outputs": [
    {
     "data": {
      "text/plain": [
       "['canonical title',\n",
       " 'long imdb title',\n",
       " 'long imdb canonical title',\n",
       " 'smart canonical title',\n",
       " 'smart long imdb canonical title',\n",
       " 'full-size cover url']"
      ]
     },
     "execution_count": 252,
     "metadata": {},
     "output_type": "execute_result"
    }
   ],
   "source": [
    "keys = shawshank.infoset2keys\n",
    "keys\n",
    "my_key = {'my_info': ['cast',\n",
    "                      'title',\n",
    "                     'year',\n",
    "                     'directors',\n",
    "                     'writers',\n",
    "                     'producers']}\n",
    "ironman._additional_keys()\n"
   ]
  },
  {
   "cell_type": "code",
   "execution_count": 320,
   "metadata": {},
   "outputs": [],
   "source": [
    "top100_cast\n",
    "\n",
    "with open(\"out.csv\", \"w\", newline=\"\") as f:\n",
    "    writer = csv.writer(f)\n",
    "    writer.writerows(top_cast)"
   ]
  },
  {
   "cell_type": "code",
   "execution_count": 333,
   "metadata": {},
   "outputs": [
    {
     "data": {
      "text/plain": [
       "[]"
      ]
     },
     "execution_count": 333,
     "metadata": {},
     "output_type": "execute_result"
    }
   ],
   "source": [
    "top_IDs"
   ]
  },
  {
   "cell_type": "code",
   "execution_count": 199,
   "metadata": {},
   "outputs": [],
   "source": [
    "df = pd.DataFrame()\n",
    "df['ID'] = top_IDs\n",
    "df['Title'] = top_titles\n"
   ]
  },
  {
   "cell_type": "code",
   "execution_count": 201,
   "metadata": {},
   "outputs": [
    {
     "data": {
      "text/html": [
       "<div>\n",
       "<style scoped>\n",
       "    .dataframe tbody tr th:only-of-type {\n",
       "        vertical-align: middle;\n",
       "    }\n",
       "\n",
       "    .dataframe tbody tr th {\n",
       "        vertical-align: top;\n",
       "    }\n",
       "\n",
       "    .dataframe thead th {\n",
       "        text-align: right;\n",
       "    }\n",
       "</style>\n",
       "<table border=\"1\" class=\"dataframe\">\n",
       "  <thead>\n",
       "    <tr style=\"text-align: right;\">\n",
       "      <th></th>\n",
       "      <th>ID</th>\n",
       "      <th>Title</th>\n",
       "    </tr>\n",
       "  </thead>\n",
       "  <tbody>\n",
       "    <tr>\n",
       "      <th>0</th>\n",
       "      <td>0111161</td>\n",
       "      <td>The Shawshank Redemption</td>\n",
       "    </tr>\n",
       "    <tr>\n",
       "      <th>1</th>\n",
       "      <td>0068646</td>\n",
       "      <td>The Godfather</td>\n",
       "    </tr>\n",
       "    <tr>\n",
       "      <th>2</th>\n",
       "      <td>0071562</td>\n",
       "      <td>The Godfather: Part II</td>\n",
       "    </tr>\n",
       "    <tr>\n",
       "      <th>3</th>\n",
       "      <td>0468569</td>\n",
       "      <td>The Dark Knight</td>\n",
       "    </tr>\n",
       "    <tr>\n",
       "      <th>4</th>\n",
       "      <td>0050083</td>\n",
       "      <td>12 Angry Men</td>\n",
       "    </tr>\n",
       "  </tbody>\n",
       "</table>\n",
       "</div>"
      ],
      "text/plain": [
       "        ID                     Title\n",
       "0  0111161  The Shawshank Redemption\n",
       "1  0068646             The Godfather\n",
       "2  0071562    The Godfather: Part II\n",
       "3  0468569           The Dark Knight\n",
       "4  0050083              12 Angry Men"
      ]
     },
     "execution_count": 201,
     "metadata": {},
     "output_type": "execute_result"
    }
   ],
   "source": [
    "df.head()"
   ]
  },
  {
   "cell_type": "code",
   "execution_count": null,
   "metadata": {},
   "outputs": [],
   "source": []
  },
  {
   "cell_type": "code",
   "execution_count": 149,
   "metadata": {},
   "outputs": [
    {
     "data": {
      "text/plain": [
       "['rating',\n",
       " 'title',\n",
       " 'year',\n",
       " 'votes',\n",
       " 'top 250 rank',\n",
       " 'kind',\n",
       " 'canonical title',\n",
       " 'long imdb title',\n",
       " 'long imdb canonical title',\n",
       " 'smart canonical title',\n",
       " 'smart long imdb canonical title']"
      ]
     },
     "execution_count": 149,
     "metadata": {},
     "output_type": "execute_result"
    }
   ],
   "source": [
    "top[0].keys()"
   ]
  },
  {
   "cell_type": "code",
   "execution_count": 208,
   "metadata": {},
   "outputs": [
    {
     "ename": "AttributeError",
     "evalue": "'IMDbHTTPAccessSystem' object has no attribute 'default_info'",
     "output_type": "error",
     "traceback": [
      "\u001b[0;31m---------------------------------------------------------------------------\u001b[0m",
      "\u001b[0;31mAttributeError\u001b[0m                            Traceback (most recent call last)",
      "\u001b[0;32m<ipython-input-208-d2c10257f572>\u001b[0m in \u001b[0;36m<module>\u001b[0;34m\u001b[0m\n\u001b[0;32m----> 1\u001b[0;31m \u001b[0mdata\u001b[0m\u001b[0;34m.\u001b[0m\u001b[0mdefault_info\u001b[0m\u001b[0;34m\u001b[0m\u001b[0;34m\u001b[0m\u001b[0m\n\u001b[0m",
      "\u001b[0;31mAttributeError\u001b[0m: 'IMDbHTTPAccessSystem' object has no attribute 'default_info'"
     ]
    }
   ],
   "source": [
    "\n"
   ]
  },
  {
   "cell_type": "code",
   "execution_count": null,
   "metadata": {},
   "outputs": [],
   "source": []
  }
 ],
 "metadata": {
  "kernelspec": {
   "display_name": "Python 3",
   "language": "python",
   "name": "python3"
  },
  "language_info": {
   "codemirror_mode": {
    "name": "ipython",
    "version": 3
   },
   "file_extension": ".py",
   "mimetype": "text/x-python",
   "name": "python",
   "nbconvert_exporter": "python",
   "pygments_lexer": "ipython3",
   "version": "3.7.3"
  }
 },
 "nbformat": 4,
 "nbformat_minor": 2
}
