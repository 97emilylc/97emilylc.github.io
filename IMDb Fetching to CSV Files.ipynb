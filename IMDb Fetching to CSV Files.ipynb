{
 "cells": [
  {
   "cell_type": "code",
   "execution_count": 129,
   "metadata": {},
   "outputs": [],
   "source": [
    "import imdb\n",
    "import pandas as pd\n",
    "import csv"
   ]
  },
  {
   "cell_type": "code",
   "execution_count": 130,
   "metadata": {},
   "outputs": [],
   "source": [
    "fetcher = imdb.IMDb() # How we fetch the data"
   ]
  },
  {
   "cell_type": "code",
   "execution_count": 45,
   "metadata": {},
   "outputs": [],
   "source": [
    "top = fetcher.get_top250_movies() # Getting the 250 movie objects that are the highest ranked on the website"
   ]
  },
  {
   "cell_type": "code",
   "execution_count": 112,
   "metadata": {},
   "outputs": [],
   "source": [
    "top_IDs = list()\n",
    "for i in range(len(top)):\n",
    "    top_IDs.append(top[i].getID())\n",
    "    \n",
    "top_titles = list()\n",
    "for i in range(len(top)):\n",
    "    top_titles.append(top[i]['title'])\n",
    "    \n",
    "top_years = list()\n",
    "for i in range(len(top)):\n",
    "    top_years.append(top[i]['year'])"
   ]
  },
  {
   "cell_type": "markdown",
   "metadata": {},
   "source": [
    "### Why is this next chunk (defining get_top_billing) necessary?\n",
    "- The IMDb movie objects imported into the *top* variable are **not** the same as movie objects that are retrieved by calling the *get_movie()* function. The information in each movie object from the *get_top250_movies()* function is severly limited. \n",
    "- The way we access the information per each movie object is to use different keys, ie\n",
    "        movie_obj['cast']\n",
    "        \n",
    "  this should print out a large number of people objects, each containing the person's name and information\n",
    "- But the keys that are available to be used with the objects fetched by using the get_top250_movies() function are limited to the following:\n",
    "        ['rating',\n",
    "         'title',\n",
    "         'year',\n",
    "         'votes',\n",
    "         'top 250 rank',\n",
    "         'kind',\n",
    "         'canonical title',\n",
    "         'long imdb title',\n",
    "         'long imdb canonical title',\n",
    "         'smart canonical title',\n",
    "         'smart long imdb canonical title']\n",
    "         \n",
    "- While the keys that are available to movies fetched by the *get_movie()* function are much more extensive:\n",
    "        ['cast',\n",
    "         'genres',\n",
    "         'runtimes',\n",
    "         'countries',\n",
    "         'country codes',\n",
    "         'language codes',\n",
    "         'color info',\n",
    "         'aspect ratio',\n",
    "         'sound mix',\n",
    "         'box office',\n",
    "         'certificates',\n",
    "         'original air date',\n",
    "         'rating',\n",
    "         'votes',\n",
    "         'cover url',\n",
    "         'plot outline',\n",
    "         'languages',\n",
    "         'title',\n",
    "         'year',\n",
    "         'kind',\n",
    "         'directors',\n",
    "         'writers]\n",
    "           ... etc"
   ]
  },
  {
   "cell_type": "markdown",
   "metadata": {},
   "source": [
    "There are very few items in this list that I desire to work with but things like director and cast are rather important to include. Instead of finding the top 250 films by hand and fetch them as Movie objects by hand, which would take a considerable amount of time, I am defining a function that will only pull the top 5 billed casts' names."
   ]
  },
  {
   "cell_type": "code",
   "execution_count": 155,
   "metadata": {},
   "outputs": [],
   "source": [
    "# Function: get_top_billing(self, size = 5):\n",
    "# Necessary to grab the People objects using the ID numbers of the 250 movies\n",
    "# because the 'cast' key is not used when fetching the movie objects\n",
    "def get_top_billing(self, size = 5):\n",
    "    \" Get the top 5 highest billed actors\"\n",
    "    \"must be passed a get_top250 movies object, not the original movie object\"\n",
    "    top_billed = []\n",
    "    if(type(self) == list):\n",
    "        for i in range(len(self)):\n",
    "            top_billed.append(fetcher.get_movie(self[i].getID())['cast'][0:size])\n",
    "    else:\n",
    "        top_billed = fetcher.get_movie(self.getID())['cast'][0:size]\n",
    "    return top_billed\n"
   ]
  },
  {
   "cell_type": "markdown",
   "metadata": {},
   "source": [
    "## Warning: The following line will take several minutes to load"
   ]
  },
  {
   "cell_type": "code",
   "execution_count": 157,
   "metadata": {},
   "outputs": [],
   "source": [
    "## NOTE: This line of code takes a considerable amount of time to run\n",
    "top_cast = get_top_billing(top) ## Already ran this line of code"
   ]
  },
  {
   "cell_type": "markdown",
   "metadata": {},
   "source": [
    "Now I am taking *top_cast* which is a list of lists, and extacting the name of the People object to then store in a list of lists which will then be transfered to a data frame using pandas"
   ]
  },
  {
   "cell_type": "code",
   "execution_count": 163,
   "metadata": {},
   "outputs": [],
   "source": [
    "top_cast_name = []\n",
    "for i in range(len(top_cast)):\n",
    "    temp_list = []\n",
    "    for j in range(5):\n",
    "        temp_list.append(top_cast[i][j]['name'])\n",
    "    top_cast_name.append(temp_list)"
   ]
  },
  {
   "cell_type": "code",
   "execution_count": 123,
   "metadata": {},
   "outputs": [],
   "source": [
    "# Temporary dataframe to easily contant the two dataframes later\n",
    "cast_df = pd.DataFrame(top_cast_name)"
   ]
  },
  {
   "cell_type": "code",
   "execution_count": 124,
   "metadata": {},
   "outputs": [],
   "source": [
    "# Adding proper titles to the data previously retrieved via loops at the top of this document\n",
    "top250 = pd.DataFrame({\"IDs\" : top_IDs, \"Titles\" : top_titles, \"Year\": top_years})"
   ]
  },
  {
   "cell_type": "code",
   "execution_count": 125,
   "metadata": {},
   "outputs": [],
   "source": [
    "# \n",
    "fetcher.get\n",
    "top250 = pd.concat([top250, cast_df], axis=1)"
   ]
  },
  {
   "cell_type": "code",
   "execution_count": 126,
   "metadata": {},
   "outputs": [],
   "source": [
    "top250.columns = [\"ID\", \"Title\", \"Year\", \"Star1\", \"Star2\", \"Star3\", \"Star4\", \"Star5\"]"
   ]
  },
  {
   "cell_type": "code",
   "execution_count": 127,
   "metadata": {},
   "outputs": [],
   "source": [
    "with open(\"top250.csv\", \"w\", newline = \"\") as f:\n",
    "    writer = csv.writer(f)\n",
    "    writer.writerows(top250)"
   ]
  },
  {
   "cell_type": "markdown",
   "metadata": {},
   "source": [
    "### What If I Wanted Every Key In Included in the get_movies() Function?\n",
    "- Included in the list of data is alot of information that makes a movie potentially high ranking that may be somewhat subconcious such as the composer or the casting director\n",
    "- But surely that is a hugh amount of information to store, so lets do some EDA on a couple samples"
   ]
  },
  {
   "cell_type": "markdown",
   "metadata": {},
   "source": [
    "Because it is one of my favorite films, we will retrieve the ID of Iron Man and see the data types and contents of each key."
   ]
  },
  {
   "cell_type": "code",
   "execution_count": 138,
   "metadata": {},
   "outputs": [
    {
     "name": "stdout",
     "output_type": "stream",
     "text": [
      "0371746\n"
     ]
    }
   ],
   "source": [
    "ironman_ID = fetcher.search_movie(\"Iron Man\")[0].getID()\n",
    "print(ironman_ID)"
   ]
  },
  {
   "cell_type": "code",
   "execution_count": 141,
   "metadata": {},
   "outputs": [],
   "source": [
    "ironman_obj = fetcher.get_movie(ironman_ID)"
   ]
  },
  {
   "cell_type": "code",
   "execution_count": 143,
   "metadata": {},
   "outputs": [
    {
     "data": {
      "text/plain": [
       "64"
      ]
     },
     "execution_count": 143,
     "metadata": {},
     "output_type": "execute_result"
    }
   ],
   "source": [
    "len(ironman_obj.keys())"
   ]
  },
  {
   "cell_type": "markdown",
   "metadata": {},
   "source": [
    "There are 64 pieces of information that we have for this particular film. They are quite varried in their contents. "
   ]
  },
  {
   "cell_type": "code",
   "execution_count": 145,
   "metadata": {},
   "outputs": [
    {
     "name": "stdout",
     "output_type": "stream",
     "text": [
      "['cast', 'genres', 'runtimes', 'countries', 'country codes', 'language codes', 'color info', 'aspect ratio', 'sound mix', 'box office', 'certificates', 'original air date', 'rating', 'votes', 'cover url', 'plot outline', 'languages', 'title', 'year', 'kind', 'directors', 'writers', 'producers', 'composers', 'cinematographers', 'editors', 'editorial department', 'casting directors', 'production designers', 'art directors', 'set decorators', 'costume designers', 'make up department', 'production managers', 'assistant directors', 'art department', 'sound department', 'special effects', 'visual effects', 'stunts', 'camera department', 'animation department', 'casting department', 'costume departmen', 'location management', 'music department', 'transportation department', 'miscellaneous', 'thanks', 'akas', 'writer', 'director', 'production companies', 'distributors', 'special effects companies', 'other companies', 'plot', 'synopsis', 'canonical title', 'long imdb title', 'long imdb canonical title', 'smart canonical title', 'smart long imdb canonical title', 'full-size cover url']\n"
     ]
    }
   ],
   "source": [
    "print(ironman_obj.keys())"
   ]
  },
  {
   "cell_type": "code",
   "execution_count": 154,
   "metadata": {},
   "outputs": [
    {
     "name": "stdout",
     "output_type": "stream",
     "text": [
      "Number of Artists in Art Department:  218\n",
      "[<Person id:0007572[http] name:_Ruben Abarca_>, <Person id:3170375[http] name:_Joe Acosta_>, <Person id:3011924[http] name:_Eddie Acuña_>, <Person id:0036762[http] name:_Laurie Arnow-Epstein_>, <Person id:3170631[http] name:_Tony W. Austin_>, <Person id:1129581[http] name:_Ernie Avila_>, <Person id:3171344[http] name:_Chuck M. Beaver_>, <Person id:0080543[http] name:_Mark Bialuski_>, <Person id:3170921[http] name:_Brandon Birrer_>, <Person id:0083766[http] name:_Kelly Birrer_>]\n"
     ]
    }
   ],
   "source": [
    "print(\"Number of Artists in Art Department: \", len(ironman_obj['art department']))"
   ]
  },
  {
   "cell_type": "markdown",
   "metadata": {},
   "source": [
    "It is quite clear that there is entirely too much data to draw any conclusions by hand."
   ]
  },
  {
   "cell_type": "code",
   "execution_count": null,
   "metadata": {},
   "outputs": [],
   "source": []
  }
 ],
 "metadata": {
  "kernelspec": {
   "display_name": "Python 3",
   "language": "python",
   "name": "python3"
  },
  "language_info": {
   "codemirror_mode": {
    "name": "ipython",
    "version": 3
   },
   "file_extension": ".py",
   "mimetype": "text/x-python",
   "name": "python",
   "nbconvert_exporter": "python",
   "pygments_lexer": "ipython3",
   "version": "3.7.3"
  }
 },
 "nbformat": 4,
 "nbformat_minor": 2
}
