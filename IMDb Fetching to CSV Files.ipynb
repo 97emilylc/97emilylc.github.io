{
 "cells": [
  {
   "cell_type": "code",
   "execution_count": 167,
   "metadata": {},
   "outputs": [],
   "source": [
    "import imdb\n",
    "import pandas as pd\n",
    "import csv"
   ]
  },
  {
   "cell_type": "code",
   "execution_count": 168,
   "metadata": {},
   "outputs": [],
   "source": [
    "fetcher = imdb.IMDb() # How we fetch the data"
   ]
  },
  {
   "cell_type": "code",
   "execution_count": 169,
   "metadata": {},
   "outputs": [],
   "source": [
    "top = fetcher.get_top250_movies() # Getting the 250 movie objects that are the highest ranked on the website"
   ]
  },
  {
   "cell_type": "code",
   "execution_count": 170,
   "metadata": {},
   "outputs": [],
   "source": [
    "top_IDs = list()\n",
    "for i in range(len(top)):\n",
    "    top_IDs.append(top[i].getID())\n",
    "    \n",
    "top_titles = list()\n",
    "for i in range(len(top)):\n",
    "    top_titles.append(top[i]['title'])\n",
    "    \n",
    "top_years = list()\n",
    "for i in range(len(top)):\n",
    "    top_years.append(top[i]['year'])"
   ]
  },
  {
   "cell_type": "markdown",
   "metadata": {},
   "source": [
    "### Why is this next chunk (defining get_top_billing) necessary?\n",
    "- The IMDb movie objects imported into the *top* variable are **not** the same as movie objects that are retrieved by calling the *get_movie()* function. The information in each movie object from the *get_top250_movies()* function is severly limited. \n",
    "- The way we access the information per each movie object is to use different keys, ie\n",
    "        movie_obj['cast']\n",
    "        \n",
    "  this should print out a large number of people objects, each containing the person's name and information\n",
    "- But the keys that are available to be used with the objects fetched by using the get_top250_movies() function are limited to the following:\n",
    "        ['rating',\n",
    "         'title',\n",
    "         'year',\n",
    "         'votes',\n",
    "         'top 250 rank',\n",
    "         'kind',\n",
    "         'canonical title',\n",
    "         'long imdb title',\n",
    "         'long imdb canonical title',\n",
    "         'smart canonical title',\n",
    "         'smart long imdb canonical title']\n",
    "         \n",
    "- While the keys that are available to movies fetched by the *get_movie()* function are much more extensive:\n",
    "        ['cast',\n",
    "         'genres',\n",
    "         'runtimes',\n",
    "         'countries',\n",
    "         'country codes',\n",
    "         'language codes',\n",
    "         'color info',\n",
    "         'aspect ratio',\n",
    "         'sound mix',\n",
    "         'box office',\n",
    "         'certificates',\n",
    "         'original air date',\n",
    "         'rating',\n",
    "         'votes',\n",
    "         'cover url',\n",
    "         'plot outline',\n",
    "         'languages',\n",
    "         'title',\n",
    "         'year',\n",
    "         'kind',\n",
    "         'directors',\n",
    "         'writers]\n",
    "           ... etc"
   ]
  },
  {
   "cell_type": "markdown",
   "metadata": {},
   "source": [
    "There are very few items in this list that I desire to work with but things like director and cast are rather important to include. Instead of finding the top 250 films by hand and fetch them as Movie objects by hand, which would take a considerable amount of time, I am defining a function that will only pull the top 5 billed casts' names."
   ]
  },
  {
   "cell_type": "code",
   "execution_count": 171,
   "metadata": {},
   "outputs": [],
   "source": [
    "# Function: get_top_billing(self, size = 5):\n",
    "# Necessary to grab the People objects using the ID numbers of the 250 movies\n",
    "# because the 'cast' key is not used when fetching the movie objects\n",
    "def get_top_billing(self, size = 5):\n",
    "    \" Get the top 5 highest billed actors\"\n",
    "    \"must be passed a get_top250 movies object, not the original movie object\"\n",
    "    top_billed = []\n",
    "    if(type(self) == list):\n",
    "        for i in range(len(self)):\n",
    "            top_billed.append(fetcher.get_movie(self[i].getID())['cast'][0:size])\n",
    "    else:\n",
    "        top_billed = fetcher.get_movie(self.getID())['cast'][0:size]\n",
    "    return top_billed\n"
   ]
  },
  {
   "cell_type": "markdown",
   "metadata": {},
   "source": [
    "## Warning: The following line will take several minutes to load"
   ]
  },
  {
   "cell_type": "code",
   "execution_count": 157,
   "metadata": {},
   "outputs": [],
   "source": [
    "## NOTE: This line of code takes a considerable amount of time to run\n",
    "top_cast = get_top_billing(top) ## Already ran this line of code"
   ]
  },
  {
   "cell_type": "markdown",
   "metadata": {},
   "source": [
    "Now I am taking *top_cast* which is a list of lists, and extacting the name of the People object to then store in a list of lists which will then be transfered to a data frame using pandas"
   ]
  },
  {
   "cell_type": "code",
   "execution_count": 172,
   "metadata": {},
   "outputs": [],
   "source": [
    "top_cast_name = []\n",
    "for i in range(len(top_cast)):\n",
    "    temp_list = []\n",
    "    for j in range(5):\n",
    "        temp_list.append(top_cast[i][j]['name'])\n",
    "    top_cast_name.append(temp_list)"
   ]
  },
  {
   "cell_type": "code",
   "execution_count": 173,
   "metadata": {},
   "outputs": [],
   "source": [
    "# Temporary dataframe to easily contant the two dataframes later\n",
    "cast_df = pd.DataFrame(top_cast_name)"
   ]
  },
  {
   "cell_type": "code",
   "execution_count": 174,
   "metadata": {},
   "outputs": [],
   "source": [
    "# Adding proper titles to the data previously retrieved via loops at the top of this document\n",
    "top250 = pd.DataFrame({\"IDs\" : top_IDs, \"Titles\" : top_titles, \"Year\": top_years})"
   ]
  },
  {
   "cell_type": "code",
   "execution_count": 175,
   "metadata": {},
   "outputs": [],
   "source": [
    "# Combine the IDs, titles, year, and five columns of the cast\n",
    "top250 = pd.concat([top250, cast_df], axis=1)"
   ]
  },
  {
   "cell_type": "code",
   "execution_count": 176,
   "metadata": {},
   "outputs": [],
   "source": [
    "top250.columns = [\"ID\", \"Title\", \"Year\", \"Star1\", \"Star2\", \"Star3\", \"Star4\", \"Star5\"]"
   ]
  },
  {
   "cell_type": "code",
   "execution_count": 187,
   "metadata": {},
   "outputs": [],
   "source": [
    "top250.to_csv(\"top250.csv\", sep=',')"
   ]
  },
  {
   "cell_type": "markdown",
   "metadata": {},
   "source": [
    "### What If I Wanted Every Key In Included in the get_movies() Function?\n",
    "- Included in the list of data is alot of information that makes a movie potentially high ranking that may be somewhat subconcious such as the composer or the casting director\n",
    "- But surely that is a hugh amount of information to store, so lets do some EDA on a couple samples"
   ]
  },
  {
   "cell_type": "markdown",
   "metadata": {},
   "source": [
    "Because it is one of my favorite films, we will retrieve the ID of Iron Man and see the data types and contents of each key."
   ]
  },
  {
   "cell_type": "code",
   "execution_count": 180,
   "metadata": {},
   "outputs": [
    {
     "name": "stdout",
     "output_type": "stream",
     "text": [
      "0371746\n"
     ]
    }
   ],
   "source": [
    "ironman_ID = fetcher.search_movie(\"Iron Man\")[0].getID()\n",
    "print(ironman_ID)"
   ]
  },
  {
   "cell_type": "code",
   "execution_count": 194,
   "metadata": {},
   "outputs": [],
   "source": [
    "ironman_obj = fetcher.get_movie(ironman_ID)"
   ]
  },
  {
   "cell_type": "code",
   "execution_count": 195,
   "metadata": {},
   "outputs": [
    {
     "data": {
      "text/plain": [
       "[<Movie id:0111161[http] title:_The Shawshank Redemption (1994)_>,\n",
       " <Movie id:0068646[http] title:_The Godfather (1972)_>,\n",
       " <Movie id:0071562[http] title:_The Godfather: Part II (1974)_>,\n",
       " <Movie id:0468569[http] title:_The Dark Knight (2008)_>,\n",
       " <Movie id:0050083[http] title:_12 Angry Men (1957)_>,\n",
       " <Movie id:0108052[http] title:_Schindler's List (1993)_>,\n",
       " <Movie id:0167260[http] title:_The Lord of the Rings: The Return of the King (2003)_>,\n",
       " <Movie id:0110912[http] title:_Pulp Fiction (1994)_>,\n",
       " <Movie id:0060196[http] title:_The Good, the Bad and the Ugly (1966)_>,\n",
       " <Movie id:0137523[http] title:_Fight Club (1999)_>,\n",
       " <Movie id:0120737[http] title:_The Lord of the Rings: The Fellowship of the Ring (2001)_>,\n",
       " <Movie id:0109830[http] title:_Forrest Gump (1994)_>,\n",
       " <Movie id:1375666[http] title:_Inception (2010)_>,\n",
       " <Movie id:0080684[http] title:_Star Wars: Episode V - The Empire Strikes Back (1980)_>,\n",
       " <Movie id:0167261[http] title:_The Lord of the Rings: The Two Towers (2002)_>,\n",
       " <Movie id:0133093[http] title:_The Matrix (1999)_>,\n",
       " <Movie id:0073486[http] title:_One Flew Over the Cuckoo's Nest (1975)_>,\n",
       " <Movie id:0099685[http] title:_Goodfellas (1990)_>,\n",
       " <Movie id:0047478[http] title:_Seven Samurai (1954)_>,\n",
       " <Movie id:0114369[http] title:_Se7en (1995)_>,\n",
       " <Movie id:0317248[http] title:_City of God (2002)_>,\n",
       " <Movie id:0118799[http] title:_Life Is Beautiful (1997)_>,\n",
       " <Movie id:0102926[http] title:_The Silence of the Lambs (1991)_>,\n",
       " <Movie id:0076759[http] title:_Star Wars: Episode IV - A New Hope (1977)_>,\n",
       " <Movie id:0038650[http] title:_It's a Wonderful Life (1946)_>,\n",
       " <Movie id:0120815[http] title:_Saving Private Ryan (1998)_>,\n",
       " <Movie id:0245429[http] title:_Spirited Away (2001)_>,\n",
       " <Movie id:0120689[http] title:_The Green Mile (1999)_>,\n",
       " <Movie id:0110413[http] title:_Léon: The Professional (1994)_>,\n",
       " <Movie id:0056058[http] title:_Harakiri (1962)_>,\n",
       " <Movie id:0816692[http] title:_Interstellar (2014)_>,\n",
       " <Movie id:0114814[http] title:_The Usual Suspects (1995)_>,\n",
       " <Movie id:0110357[http] title:_The Lion King (1994)_>,\n",
       " <Movie id:0120586[http] title:_American History X (1998)_>,\n",
       " <Movie id:0088763[http] title:_Back to the Future (1985)_>,\n",
       " <Movie id:0253474[http] title:_The Pianist (2002)_>,\n",
       " <Movie id:0027977[http] title:_Modern Times (1936)_>,\n",
       " <Movie id:0103064[http] title:_Terminator 2: Judgment Day (1991)_>,\n",
       " <Movie id:1675434[http] title:_The Intouchables (2011)_>,\n",
       " <Movie id:0054215[http] title:_Psycho (1960)_>,\n",
       " <Movie id:0172495[http] title:_Gladiator (2000)_>,\n",
       " <Movie id:0021749[http] title:_City Lights (1931)_>,\n",
       " <Movie id:0407887[http] title:_The Departed (2006)_>,\n",
       " <Movie id:2582802[http] title:_Whiplash (2014)_>,\n",
       " <Movie id:4154796[http] title:_Avengers: Endgame (2019)_>,\n",
       " <Movie id:0064116[http] title:_Once Upon a Time in the West (1968)_>,\n",
       " <Movie id:0482571[http] title:_The Prestige (2006)_>,\n",
       " <Movie id:0034583[http] title:_Casablanca (1942)_>,\n",
       " <Movie id:0095327[http] title:_Grave of the Fireflies (1988)_>,\n",
       " <Movie id:0047396[http] title:_Rear Window (1954)_>,\n",
       " <Movie id:0095765[http] title:_Cinema Paradiso (1988)_>,\n",
       " <Movie id:0082971[http] title:_Raiders of the Lost Ark (1981)_>,\n",
       " <Movie id:0078748[http] title:_Alien (1979)_>,\n",
       " <Movie id:0209144[http] title:_Memento (2000)_>,\n",
       " <Movie id:0078788[http] title:_Apocalypse Now (1979)_>,\n",
       " <Movie id:0032553[http] title:_The Great Dictator (1940)_>,\n",
       " <Movie id:0405094[http] title:_The Lives of Others (2006)_>,\n",
       " <Movie id:4154756[http] title:_Avengers: Infinity War (2018)_>,\n",
       " <Movie id:1853728[http] title:_Django Unchained (2012)_>,\n",
       " <Movie id:4633694[http] title:_Spider-Man: Into the Spider-Verse (2018)_>,\n",
       " <Movie id:0081505[http] title:_The Shining (1980)_>,\n",
       " <Movie id:0050825[http] title:_Paths of Glory (1957)_>,\n",
       " <Movie id:0910970[http] title:_WALL·E (2008)_>,\n",
       " <Movie id:0043014[http] title:_Sunset Blvd. (1950)_>,\n",
       " <Movie id:0057012[http] title:_Dr. Strangelove or: How I Learned to Stop Worrying and Love the Bomb (1964)_>,\n",
       " <Movie id:0119698[http] title:_Princess Mononoke (1997)_>,\n",
       " <Movie id:0364569[http] title:_Oldboy (2003)_>,\n",
       " <Movie id:0051201[http] title:_Witness for the Prosecution (1957)_>,\n",
       " <Movie id:1345836[http] title:_The Dark Knight Rises (2012)_>,\n",
       " <Movie id:0087843[http] title:_Once Upon a Time in America (1984)_>,\n",
       " <Movie id:0090605[http] title:_Aliens (1986)_>,\n",
       " <Movie id:0169547[http] title:_American Beauty (1999)_>,\n",
       " <Movie id:2380307[http] title:_Coco (2017)_>,\n",
       " <Movie id:5311514[http] title:_Your Name. (2016)_>,\n",
       " <Movie id:0112573[http] title:_Braveheart (1995)_>,\n",
       " <Movie id:6751668[http] title:_Parasite (2019)_>,\n",
       " <Movie id:0082096[http] title:_Das Boot (1981)_>,\n",
       " <Movie id:1187043[http] title:_3 Idiots (2009)_>,\n",
       " <Movie id:0986264[http] title:_Like Stars on Earth (2007)_>,\n",
       " <Movie id:0086190[http] title:_Star Wars: Episode VI - Return of the Jedi (1983)_>,\n",
       " <Movie id:0114709[http] title:_Toy Story (1995)_>,\n",
       " <Movie id:0105236[http] title:_Reservoir Dogs (1992)_>,\n",
       " <Movie id:0086879[http] title:_Amadeus (1984)_>,\n",
       " <Movie id:5074352[http] title:_Dangal (2016)_>,\n",
       " <Movie id:0022100[http] title:_M (1931)_>,\n",
       " <Movie id:0119217[http] title:_Good Will Hunting (1997)_>,\n",
       " <Movie id:0180093[http] title:_Requiem for a Dream (2000)_>,\n",
       " <Movie id:0361748[http] title:_Inglourious Basterds (2009)_>,\n",
       " <Movie id:0052357[http] title:_Vertigo (1958)_>,\n",
       " <Movie id:0062622[http] title:_2001: A Space Odyssey (1968)_>,\n",
       " <Movie id:0338013[http] title:_Eternal Sunshine of the Spotless Mind (2004)_>,\n",
       " <Movie id:0033467[http] title:_Citizen Kane (1941)_>,\n",
       " <Movie id:0093058[http] title:_Full Metal Jacket (1987)_>,\n",
       " <Movie id:2106476[http] title:_The Hunt (2012)_>,\n",
       " <Movie id:0053125[http] title:_North by Northwest (1959)_>,\n",
       " <Movie id:0066921[http] title:_A Clockwork Orange (1971)_>,\n",
       " <Movie id:0208092[http] title:_Snatch (2000)_>,\n",
       " <Movie id:0211915[http] title:_Amélie (2001)_>,\n",
       " <Movie id:0012349[http] title:_The Kid (1921)_>,\n",
       " <Movie id:0040522[http] title:_Bicycle Thieves (1948)_>,\n",
       " <Movie id:0086250[http] title:_Scarface (1983)_>,\n",
       " <Movie id:0056172[http] title:_Lawrence of Arabia (1962)_>,\n",
       " <Movie id:0045152[http] title:_Singin' in the Rain (1952)_>,\n",
       " <Movie id:0435761[http] title:_Toy Story 3 (2010)_>,\n",
       " <Movie id:0075314[http] title:_Taxi Driver (1976)_>,\n",
       " <Movie id:0070735[http] title:_The Sting (1973)_>,\n",
       " <Movie id:0017136[http] title:_Metropolis (1927)_>,\n",
       " <Movie id:0059578[http] title:_For a Few Dollars More (1965)_>,\n",
       " <Movie id:0036775[http] title:_Double Indemnity (1944)_>,\n",
       " <Movie id:1832382[http] title:_A Separation (2011)_>,\n",
       " <Movie id:0044741[http] title:_Ikiru (1952)_>,\n",
       " <Movie id:0056592[http] title:_To Kill a Mockingbird (1962)_>,\n",
       " <Movie id:0097576[http] title:_Indiana Jones and the Last Crusade (1989)_>,\n",
       " <Movie id:0053604[http] title:_The Apartment (1960)_>,\n",
       " <Movie id:3417422[http] title:_Drishyam (2013)_>,\n",
       " <Movie id:1049413[http] title:_Up (2009)_>,\n",
       " <Movie id:0119488[http] title:_L.A. Confidential (1997)_>,\n",
       " <Movie id:8267604[http] title:_Capernaum (2018)_>,\n",
       " <Movie id:0071853[http] title:_Monty Python and the Holy Grail (1975)_>,\n",
       " <Movie id:1255953[http] title:_Incendies (2010)_>,\n",
       " <Movie id:0113277[http] title:_Heat (1995)_>,\n",
       " <Movie id:0042876[http] title:_Rashomon (1950)_>,\n",
       " <Movie id:0055630[http] title:_Yojimbo (1961)_>,\n",
       " <Movie id:0372784[http] title:_Batman Begins (2005)_>,\n",
       " <Movie id:0095016[http] title:_Die Hard (1988)_>,\n",
       " <Movie id:0105695[http] title:_Unforgiven (1992)_>,\n",
       " <Movie id:6966692[http] title:_Green Book (2018)_>,\n",
       " <Movie id:0363163[http] title:_Downfall (2004)_>,\n",
       " <Movie id:0118849[http] title:_Children of Heaven (1997)_>,\n",
       " <Movie id:0053291[http] title:_Some Like It Hot (1959)_>,\n",
       " <Movie id:0347149[http] title:_Howl's Moving Castle (2004)_>,\n",
       " <Movie id:0057115[http] title:_The Great Escape (1963)_>,\n",
       " <Movie id:0096283[http] title:_My Neighbor Totoro (1988)_>,\n",
       " <Movie id:0089881[http] title:_Ran (1985)_>,\n",
       " <Movie id:0042192[http] title:_All About Eve (1950)_>,\n",
       " <Movie id:0268978[http] title:_A Beautiful Mind (2001)_>,\n",
       " <Movie id:0457430[http] title:_Pan's Labyrinth (2006)_>,\n",
       " <Movie id:0091251[http] title:_Come and See (1985)_>,\n",
       " <Movie id:0112641[http] title:_Casino (1995)_>,\n",
       " <Movie id:1305806[http] title:_The Secret in Their Eyes (2009)_>,\n",
       " <Movie id:0120735[http] title:_Lock, Stock and Two Smoking Barrels (1998)_>,\n",
       " <Movie id:0081398[http] title:_Raging Bull (1980)_>,\n",
       " <Movie id:0476735[http] title:_My Father and My Son (2005)_>,\n",
       " <Movie id:0040897[http] title:_The Treasure of the Sierra Madre (1948)_>,\n",
       " <Movie id:0993846[http] title:_The Wolf of Wall Street (2013)_>,\n",
       " <Movie id:0055031[http] title:_Judgment at Nuremberg (1961)_>,\n",
       " <Movie id:5027774[http] title:_Three Billboards Outside Ebbing, Missouri (2017)_>,\n",
       " <Movie id:0071315[http] title:_Chinatown (1974)_>,\n",
       " <Movie id:0015864[http] title:_The Gold Rush (1925)_>,\n",
       " <Movie id:2096673[http] title:_Inside Out (2015)_>,\n",
       " <Movie id:0046912[http] title:_Dial M for Murder (1954)_>,\n",
       " <Movie id:0434409[http] title:_V for Vendetta (2005)_>,\n",
       " <Movie id:0469494[http] title:_There Will Be Blood (2007)_>,\n",
       " <Movie id:0050976[http] title:_The Seventh Seal (1957)_>,\n",
       " <Movie id:1291584[http] title:_Warrior (2011)_>,\n",
       " <Movie id:3170832[http] title:_Room (2015)_>,\n",
       " <Movie id:0117951[http] title:_Trainspotting (1996)_>,\n",
       " <Movie id:0477348[http] title:_No Country for Old Men (2007)_>,\n",
       " <Movie id:8108198[http] title:_Andhadhun (2018)_>,\n",
       " <Movie id:0080678[http] title:_The Elephant Man (1980)_>,\n",
       " <Movie id:0167404[http] title:_The Sixth Sense (1999)_>,\n",
       " <Movie id:1130884[http] title:_Shutter Island (2010)_>,\n",
       " <Movie id:0084787[http] title:_The Thing (1982)_>,\n",
       " <Movie id:0050212[http] title:_The Bridge on the River Kwai (1957)_>,\n",
       " <Movie id:0031381[http] title:_Gone with the Wind (1939)_>,\n",
       " <Movie id:0116231[http] title:_The Bandit (1996)_>,\n",
       " <Movie id:0041959[http] title:_The Third Man (1949)_>,\n",
       " <Movie id:0047296[http] title:_On the Waterfront (1954)_>,\n",
       " <Movie id:0083658[http] title:_Blade Runner (1982)_>,\n",
       " <Movie id:0050986[http] title:_Wild Strawberries (1957)_>,\n",
       " <Movie id:0107290[http] title:_Jurassic Park (1993)_>,\n",
       " <Movie id:0266543[http] title:_Finding Nemo (2003)_>,\n",
       " <Movie id:1205489[http] title:_Gran Torino (2008)_>,\n",
       " <Movie id:0116282[http] title:_Fargo (1996)_>,\n",
       " <Movie id:0266697[http] title:_Kill Bill: Vol. 1 (2003)_>,\n",
       " <Movie id:0077416[http] title:_The Deer Hunter (1978)_>,\n",
       " <Movie id:0046438[http] title:_Tokyo Story (1953)_>,\n",
       " <Movie id:0118715[http] title:_The Big Lebowski (1998)_>,\n",
       " <Movie id:0079944[http] title:_Stalker (1979)_>,\n",
       " <Movie id:0120382[http] title:_The Truman Show (1998)_>,\n",
       " <Movie id:3011894[http] title:_Wild Tales (2014)_>,\n",
       " <Movie id:0978762[http] title:_Mary and Max (2009)_>,\n",
       " <Movie id:2119532[http] title:_Hacksaw Ridge (2016)_>,\n",
       " <Movie id:2267998[http] title:_Gone Girl (2014)_>,\n",
       " <Movie id:0107207[http] title:_In the Name of the Father (1993)_>,\n",
       " <Movie id:0015324[http] title:_Sherlock Jr. (1924)_>,\n",
       " <Movie id:0017925[http] title:_The General (1926)_>,\n",
       " <Movie id:0892769[http] title:_How to Train Your Dragon (2010)_>,\n",
       " <Movie id:0031679[http] title:_Mr. Smith Goes to Washington (1939)_>,\n",
       " <Movie id:0040725[http] title:_The Red Shoes (1948)_>,\n",
       " <Movie id:2278388[http] title:_The Grand Budapest Hotel (2014)_>,\n",
       " <Movie id:0353969[http] title:_Memories of Murder (2003)_>,\n",
       " <Movie id:0060827[http] title:_Persona (1966)_>,\n",
       " <Movie id:0112471[http] title:_Before Sunrise (1995)_>,\n",
       " <Movie id:0264464[http] title:_Catch Me If You Can (2002)_>,\n",
       " <Movie id:0758758[http] title:_Into the Wild (2007)_>,\n",
       " <Movie id:0046268[http] title:_The Wages of Fear (1953)_>,\n",
       " <Movie id:0061512[http] title:_Cool Hand Luke (1967)_>,\n",
       " <Movie id:2024544[http] title:_12 Years a Slave (2013)_>,\n",
       " <Movie id:0074958[http] title:_Network (1976)_>,\n",
       " <Movie id:1392214[http] title:_Prisoners (2013)_>,\n",
       " <Movie id:0079470[http] title:_Monty Python's Life of Brian (1979)_>,\n",
       " <Movie id:0019254[http] title:_The Passion of Joan of Arc (1928)_>,\n",
       " <Movie id:0405508[http] title:_Rang De Basanti (2006)_>,\n",
       " <Movie id:0092005[http] title:_Stand by Me (1986)_>,\n",
       " <Movie id:0060107[http] title:_Andrei Rublev (1966)_>,\n",
       " <Movie id:1392190[http] title:_Mad Max: Fury Road (2015)_>,\n",
       " <Movie id:0091763[http] title:_Platoon (1986)_>,\n",
       " <Movie id:1979320[http] title:_Rush (2013)_>,\n",
       " <Movie id:0405159[http] title:_Million Dollar Baby (2004)_>,\n",
       " <Movie id:1028532[http] title:_Hachi: A Dog's Tale (2009)_>,\n",
       " <Movie id:3315342[http] title:_Logan (2017)_>,\n",
       " <Movie id:0052618[http] title:_Ben-Hur (1959)_>,\n",
       " <Movie id:0072684[http] title:_Barry Lyndon (1975)_>,\n",
       " <Movie id:0395169[http] title:_Hotel Rwanda (2004)_>,\n",
       " <Movie id:0245712[http] title:_Amores Perros (2000)_>,\n",
       " <Movie id:0087544[http] title:_Nausicaä of the Valley of the Wind (1984)_>,\n",
       " <Movie id:1895587[http] title:_Spotlight (2015)_>,\n",
       " <Movie id:1201607[http] title:_Harry Potter and the Deathly Hallows: Part 2 (2011)_>,\n",
       " <Movie id:0053198[http] title:_The 400 Blows (1959)_>,\n",
       " <Movie id:0097165[http] title:_Dead Poets Society (1989)_>,\n",
       " <Movie id:0032976[http] title:_Rebecca (1940)_>,\n",
       " <Movie id:0075148[http] title:_Rocky (1976)_>,\n",
       " <Movie id:1954470[http] title:_Gangs of Wasseypur (2012)_>,\n",
       " <Movie id:0198781[http] title:_Monsters, Inc. (2001)_>,\n",
       " <Movie id:0025316[http] title:_It Happened One Night (1934)_>,\n",
       " <Movie id:0169102[http] title:_Lagaan: Once Upon a Time in India (2001)_>,\n",
       " <Movie id:0113247[http] title:_La Haine (1995)_>,\n",
       " <Movie id:4016934[http] title:_The Handmaiden (2016)_>,\n",
       " <Movie id:0374887[http] title:_Munna Bhai M.B.B.S. (2003)_>,\n",
       " <Movie id:0093779[http] title:_The Princess Bride (1987)_>,\n",
       " <Movie id:0056732[http] title:_The Exterminating Angel (1962)_>,\n",
       " <Movie id:2338151[http] title:_PK (2014)_>,\n",
       " <Movie id:0367110[http] title:_Swades (2004)_>,\n",
       " <Movie id:0064115[http] title:_Butch Cassidy and the Sundance Kid (1969)_>,\n",
       " <Movie id:1454029[http] title:_The Help (2011)_>,\n",
       " <Movie id:0381681[http] title:_Before Sunset (2004)_>,\n",
       " <Movie id:4430212[http] title:_Drishyam (2015)_>,\n",
       " <Movie id:0094625[http] title:_Akira (1988)_>,\n",
       " <Movie id:0088247[http] title:_The Terminator (1984)_>,\n",
       " <Movie id:0087884[http] title:_Paris, Texas (1984)_>,\n",
       " <Movie id:1979376[http] title:_Toy Story 4 (2019)_>,\n",
       " <Movie id:0118694[http] title:_In the Mood for Love (2000)_>,\n",
       " <Movie id:2015381[http] title:_Guardians of the Galaxy (2014)_>,\n",
       " <Movie id:0338564[http] title:_Infernal Affairs (2002)_>,\n",
       " <Movie id:0058946[http] title:_The Battle of Algiers (1966)_>,\n",
       " <Movie id:0103639[http] title:_Aladdin (1992)_>,\n",
       " <Movie id:1280558[http] title:_A Wednesday (2008)_>,\n",
       " <Movie id:0120731[http] title:_The Legend of 1900 (1998)_>,\n",
       " <Movie id:2758880[http] title:_Winter Sleep (2014)_>]"
      ]
     },
     "execution_count": 195,
     "metadata": {},
     "output_type": "execute_result"
    }
   ],
   "source": [
    "fetcher.get_top250_movies()"
   ]
  },
  {
   "cell_type": "markdown",
   "metadata": {},
   "source": [
    "There are 64 pieces of information that we have for this particular film. They are quite varried in their contents. "
   ]
  },
  {
   "cell_type": "code",
   "execution_count": 183,
   "metadata": {},
   "outputs": [
    {
     "name": "stdout",
     "output_type": "stream",
     "text": [
      "['cast', 'genres', 'runtimes', 'countries', 'country codes', 'language codes', 'color info', 'aspect ratio', 'sound mix', 'box office', 'certificates', 'original air date', 'rating', 'votes', 'cover url', 'plot outline', 'languages', 'title', 'year', 'kind', 'directors', 'writers', 'producers', 'composers', 'cinematographers', 'editors', 'editorial department', 'casting directors', 'production designers', 'art directors', 'set decorators', 'costume designers', 'make up department', 'production managers', 'assistant directors', 'art department', 'sound department', 'special effects', 'visual effects', 'stunts', 'camera department', 'animation department', 'casting department', 'costume departmen', 'location management', 'music department', 'transportation department', 'miscellaneous', 'thanks', 'akas', 'writer', 'director', 'production companies', 'distributors', 'special effects companies', 'other companies', 'plot', 'synopsis', 'canonical title', 'long imdb title', 'long imdb canonical title', 'smart canonical title', 'smart long imdb canonical title', 'full-size cover url']\n"
     ]
    }
   ],
   "source": [
    "print(ironman_obj.keys())"
   ]
  },
  {
   "cell_type": "code",
   "execution_count": 184,
   "metadata": {},
   "outputs": [
    {
     "name": "stdout",
     "output_type": "stream",
     "text": [
      "Number of Artists in Art Department:  218\n"
     ]
    }
   ],
   "source": [
    "print(\"Number of Artists in Art Department: \", len(ironman_obj['art department']))"
   ]
  },
  {
   "cell_type": "markdown",
   "metadata": {},
   "source": [
    "It is quite clear that there is entirely too much data to draw any conclusions by hand."
   ]
  },
  {
   "cell_type": "code",
   "execution_count": null,
   "metadata": {},
   "outputs": [],
   "source": []
  }
 ],
 "metadata": {
  "kernelspec": {
   "display_name": "Python 3",
   "language": "python",
   "name": "python3"
  },
  "language_info": {
   "codemirror_mode": {
    "name": "ipython",
    "version": 3
   },
   "file_extension": ".py",
   "mimetype": "text/x-python",
   "name": "python",
   "nbconvert_exporter": "python",
   "pygments_lexer": "ipython3",
   "version": "3.7.3"
  }
 },
 "nbformat": 4,
 "nbformat_minor": 2
}
